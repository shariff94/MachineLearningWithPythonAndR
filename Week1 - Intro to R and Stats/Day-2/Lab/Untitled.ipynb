{
 "cells": [
  {
   "cell_type": "code",
   "execution_count": 9,
   "metadata": {},
   "outputs": [
    {
     "data": {
      "text/html": [
       "<ol class=list-inline>\n",
       "\t<li>3.88806560701424</li>\n",
       "\t<li>4.23593439298576</li>\n",
       "</ol>\n"
      ],
      "text/latex": [
       "\\begin{enumerate*}\n",
       "\\item 3.88806560701424\n",
       "\\item 4.23593439298576\n",
       "\\end{enumerate*}\n"
      ],
      "text/markdown": [
       "1. 3.88806560701424\n",
       "2. 4.23593439298576\n",
       "\n",
       "\n"
      ],
      "text/plain": [
       "[1] 3.888066 4.235934"
      ]
     },
     "metadata": {},
     "output_type": "display_data"
    }
   ],
   "source": [
    "c(4.062 - qnorm(0.975)*0.67/sqrt(57),4.062 + qnorm(0.975)*0.67/sqrt(57))"
   ]
  },
  {
   "cell_type": "code",
   "execution_count": 15,
   "metadata": {},
   "outputs": [
    {
     "data": {
      "text/html": [
       "0.0206947326660156"
      ],
      "text/latex": [
       "0.0206947326660156"
      ],
      "text/markdown": [
       "0.0206947326660156"
      ],
      "text/plain": [
       "[1] 0.02069473"
      ]
     },
     "metadata": {},
     "output_type": "display_data"
    }
   ],
   "source": [
    "pbinom(14,20,0.5,lower.tail = F,log.p = F)"
   ]
  }
 ],
 "metadata": {
  "kernelspec": {
   "display_name": "R",
   "language": "R",
   "name": "ir"
  },
  "language_info": {
   "codemirror_mode": "r",
   "file_extension": ".r",
   "mimetype": "text/x-r-source",
   "name": "R",
   "pygments_lexer": "r",
   "version": "3.6.1"
  }
 },
 "nbformat": 4,
 "nbformat_minor": 2
}
