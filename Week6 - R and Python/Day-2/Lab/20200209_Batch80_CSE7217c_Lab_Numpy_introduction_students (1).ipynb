{
 "cells": [
  {
   "cell_type": "markdown",
   "metadata": {},
   "source": [
    "## Get current working directory and change directory"
   ]
  },
  {
   "cell_type": "code",
   "execution_count": 1,
   "metadata": {},
   "outputs": [
    {
     "name": "stdout",
     "output_type": "stream",
     "text": [
      "/home/nitishdubey/Documents/Nitish Dubey/Academics/20191201_Batch78_CSE7312c_Lab03_NumPy_Introduction\n"
     ]
    }
   ],
   "source": [
    "import os\n",
    "\n",
    "PATH = os.getcwd();      \n",
    "\n",
    "print(PATH)    # Print the current working directory\n",
    "\n",
    "os.chdir(PATH) # Change directory"
   ]
  },
  {
   "cell_type": "markdown",
   "metadata": {},
   "source": [
    "#### 1-D"
   ]
  },
  {
   "cell_type": "code",
   "execution_count": null,
   "metadata": {},
   "outputs": [],
   "source": [
    "a = np.array([0, 1, 2, 3])\n",
    "\n",
    "a"
   ]
  },
  {
   "cell_type": "code",
   "execution_count": null,
   "metadata": {
    "scrolled": true
   },
   "outputs": [],
   "source": [
    "print (a)\n",
    "print(a.shape)\n",
    "print (type(a))\n",
    "\n",
    "print (len(a))     # returns the size of the first dimension"
   ]
  },
  {
   "cell_type": "markdown",
   "metadata": {},
   "source": [
    "#### 2-D, 3-D, ...:"
   ]
  },
  {
   "cell_type": "code",
   "execution_count": null,
   "metadata": {},
   "outputs": [],
   "source": [
    "a = np.array([[1.5, 2, 3], [4, 5, 6]])\n",
    "\n",
    "print(a)\n",
    "print(a.shape)\n",
    "print(len(a))"
   ]
  },
  {
   "cell_type": "code",
   "execution_count": null,
   "metadata": {},
   "outputs": [],
   "source": [
    "print (a)\n",
    "\n",
    "print (type(a))\n",
    "\n",
    "print (len(a))     # returns the size of the first dimension\n",
    "\n",
    "a.shape"
   ]
  },
  {
   "cell_type": "markdown",
   "metadata": {},
   "source": [
    "* __Evenly spaced__"
   ]
  },
  {
   "cell_type": "code",
   "execution_count": null,
   "metadata": {},
   "outputs": [],
   "source": [
    "np.arange(1,10,2)     # start, end (exlusive), step\n",
    "\n",
    "print (a)"
   ]
  },
  {
   "cell_type": "code",
   "execution_count": null,
   "metadata": {},
   "outputs": [],
   "source": [
    "a = np.arange(10)          # 0 .. n-1  (!)\n",
    "\n",
    "print (a)"
   ]
  },
  {
   "cell_type": "markdown",
   "metadata": {},
   "source": [
    "* __By number of points__"
   ]
  },
  {
   "cell_type": "code",
   "execution_count": null,
   "metadata": {},
   "outputs": [],
   "source": [
    "a = np.linspace(0, 1, 6)   # start, end, num-points\n",
    "\n",
    "print (a)"
   ]
  },
  {
   "cell_type": "code",
   "execution_count": null,
   "metadata": {},
   "outputs": [],
   "source": [
    "a = np.linspace(0, 1, 5, endpoint=False)\n",
    "\n",
    "print (a)"
   ]
  },
  {
   "cell_type": "markdown",
   "metadata": {},
   "source": [
    "* __Common arrays__"
   ]
  },
  {
   "cell_type": "code",
   "execution_count": null,
   "metadata": {},
   "outputs": [],
   "source": [
    "a = np.ones((3, 3))  # reminder: (3, 3) is a tuple\n",
    "\n",
    "print (a)"
   ]
  },
  {
   "cell_type": "code",
   "execution_count": null,
   "metadata": {},
   "outputs": [],
   "source": [
    "a = np.zeros((2, 2))\n",
    "\n",
    "print (a)"
   ]
  },
  {
   "cell_type": "code",
   "execution_count": null,
   "metadata": {},
   "outputs": [],
   "source": [
    "a = np.eye(3)\n",
    "\n",
    "print (a)"
   ]
  },
  {
   "cell_type": "code",
   "execution_count": null,
   "metadata": {},
   "outputs": [],
   "source": [
    "b = np.array([1, 2, 3, 4])\n",
    "print(b)\n",
    "a = np.diag(b)\n",
    "print (a)"
   ]
  },
  {
   "cell_type": "code",
   "execution_count": null,
   "metadata": {},
   "outputs": [],
   "source": [
    "a = np.random.rand(4)\n",
    "print(a)\n",
    "print(\"\\n\")\n",
    "b = np.random.rand(4,3)  \n",
    "print(b)"
   ]
  },
  {
   "cell_type": "code",
   "execution_count": null,
   "metadata": {},
   "outputs": [],
   "source": [
    "import numpy as np\n",
    "# The * operator on the list replicates the items in a list, n number of times given list * n \n",
    "\n",
    "example_list_one = [1, 2, 3, 4] * 1000\n",
    "\n",
    "example_list_two = [4, 3, 2, 1] * 1000\n",
    "\n",
    "# We'll look at the code given here later, but for now understand that numpy arrays can be created from python lists\n",
    "\n",
    "example_array_one = np.array(example_list_one)\n",
    "\n",
    "example_array_two = np.array(example_list_two)"
   ]
  },
  {
   "cell_type": "code",
   "execution_count": null,
   "metadata": {},
   "outputs": [],
   "source": [
    "print(type(example_list_one))\n",
    "print(type(example_array_one))"
   ]
  },
  {
   "cell_type": "code",
   "execution_count": null,
   "metadata": {},
   "outputs": [],
   "source": [
    "print(len(example_list_one))\n",
    "print(example_array_one.shape)"
   ]
  },
  {
   "cell_type": "code",
   "execution_count": null,
   "metadata": {},
   "outputs": [],
   "source": [
    "def vector_addition(vector_one, vector_two):\n",
    "    \n",
    "    new_vec = []\n",
    "    \n",
    "    for i in range(len(vector_one)):\n",
    "        \n",
    "        new_vec.append(vector_one[i] + vector_two[i])\n",
    "        \n",
    "    return new_vec"
   ]
  },
  {
   "cell_type": "code",
   "execution_count": null,
   "metadata": {},
   "outputs": [],
   "source": [
    "%%timeit\n",
    "vector_addition(example_list_one,example_list_two)"
   ]
  },
  {
   "cell_type": "code",
   "execution_count": null,
   "metadata": {},
   "outputs": [],
   "source": [
    "%%timeit\n",
    "example_array_one + example_array_two"
   ]
  },
  {
   "cell_type": "code",
   "execution_count": null,
   "metadata": {},
   "outputs": [],
   "source": [
    "x = np.array([1, 2])  # Let numpy choose the datatype\n",
    "y = np.array([1.0, 2.0])  # Let numpy choose the datatype\n",
    "z = np.array([1, 2], dtype=np.int32)  # Force a particular datatype\n",
    "\n",
    "print (x.dtype, y.dtype, z.dtype)"
   ]
  },
  {
   "cell_type": "code",
   "execution_count": null,
   "metadata": {
    "scrolled": true
   },
   "outputs": [],
   "source": [
    "numpy_one_dim = np.array([1, 2, 3, 4, 5, 6])\n",
    "\n",
    "print(numpy_one_dim)\n",
    "\n",
    "print(numpy_one_dim.shape)"
   ]
  },
  {
   "cell_type": "markdown",
   "metadata": {},
   "source": [
    "#### Two Dimensional Array\n",
    "\n",
    "    Shape : (nrows, ncols)"
   ]
  },
  {
   "cell_type": "code",
   "execution_count": null,
   "metadata": {
    "scrolled": true
   },
   "outputs": [],
   "source": [
    "numpy_two_dim = np.array([\n",
    "                            [1, 2, 3, 4, 5, 6],\n",
    "                            [11, 22, 33, 44, 55, 66]\n",
    "                         ])\n",
    "\n",
    "print(numpy_two_dim)\n",
    "\n",
    "print(numpy_two_dim.shape)"
   ]
  },
  {
   "cell_type": "code",
   "execution_count": null,
   "metadata": {},
   "outputs": [],
   "source": [
    "numpy_three_dim = np.array([\n",
    "                            [\n",
    "                                [1, 2, 3, 4, 5, 6],\n",
    "                                [11, 22, 33, 44, 55, 66],\n",
    "                                [111, 222, 333, 444, 555, 666]\n",
    "                            ],\n",
    "                            [\n",
    "                                [21, 22, 23, 24, 25, 26],\n",
    "                                [221, 222, 233, 244, 255, 266],\n",
    "                                [2211, 2222, 2333, 2444, 2555, 2666]\n",
    "                            ]\n",
    "                         ])\n",
    "\n",
    "\n",
    "print(numpy_three_dim)\n",
    "\n",
    "print(numpy_three_dim.ndim)\n",
    "\n",
    "print(numpy_three_dim.shape)"
   ]
  },
  {
   "cell_type": "markdown",
   "metadata": {},
   "source": [
    "##### Activity\n",
    "\n",
    "    What is the shape of the following array?"
   ]
  },
  {
   "cell_type": "code",
   "execution_count": null,
   "metadata": {},
   "outputs": [],
   "source": [
    "   [\n",
    "       [\n",
    "           [\n",
    "               [\n",
    "                   25, 23, 23, 222, 441\n",
    "               ],\n",
    "               \n",
    "               [\n",
    "                   25, 23, 23, 222, 441\n",
    "               ],\n",
    "               \n",
    "               [\n",
    "                   25, 23, 23, 222, 441\n",
    "               ]\n",
    "           ],\n",
    "           \n",
    "           [\n",
    "               [\n",
    "                   25, 23, 23, 222, 441\n",
    "               ],\n",
    "               \n",
    "               [\n",
    "                   25, 23, 23, 222, 441\n",
    "               ],\n",
    "               \n",
    "               [\n",
    "                   25, 23, 23, 222, 441\n",
    "               ]\n",
    "           ]\n",
    "       ]\n",
    "   ]"
   ]
  },
  {
   "cell_type": "code",
   "execution_count": null,
   "metadata": {},
   "outputs": [],
   "source": [
    "a = np.arange(6)                         # 1d array\n",
    "print(a)"
   ]
  },
  {
   "cell_type": "code",
   "execution_count": null,
   "metadata": {},
   "outputs": [],
   "source": [
    "# numpy.reshape - Gives a new shape to an array without changing its data\n",
    "b = np.arange(12).reshape(4,3)           # 2d array\n",
    "print(b)"
   ]
  },
  {
   "cell_type": "code",
   "execution_count": null,
   "metadata": {},
   "outputs": [],
   "source": [
    "c = np.arange(24).reshape(2,3,4)         # 3d array\n",
    "print(c)"
   ]
  },
  {
   "cell_type": "markdown",
   "metadata": {},
   "source": [
    "If an array is too large to be printed, NumPy automatically skips the central part of the array and only prints the corners:"
   ]
  },
  {
   "cell_type": "code",
   "execution_count": null,
   "metadata": {},
   "outputs": [],
   "source": [
    "print(np.arange(10000))"
   ]
  },
  {
   "cell_type": "code",
   "execution_count": null,
   "metadata": {},
   "outputs": [],
   "source": [
    "print(np.arange(10000).reshape(100,100))"
   ]
  },
  {
   "cell_type": "markdown",
   "metadata": {},
   "source": [
    "## Indexing, Slicing and Iterating"
   ]
  },
  {
   "cell_type": "code",
   "execution_count": null,
   "metadata": {},
   "outputs": [],
   "source": [
    "a = np.arange(10)\n",
    "print (a)"
   ]
  },
  {
   "cell_type": "code",
   "execution_count": null,
   "metadata": {},
   "outputs": [],
   "source": [
    "print (a[2])\n",
    "print (a[2:5])\n",
    "print(a[:3])"
   ]
  },
  {
   "cell_type": "code",
   "execution_count": null,
   "metadata": {},
   "outputs": [],
   "source": [
    "print (a[:])\n",
    "print (a[0:10])\n",
    "print (a)"
   ]
  },
  {
   "cell_type": "code",
   "execution_count": null,
   "metadata": {},
   "outputs": [],
   "source": [
    "for i in a:\n",
    "    print(i)"
   ]
  },
  {
   "cell_type": "markdown",
   "metadata": {},
   "source": [
    "__Multidimensional__ arrays can have one index per axis. These indices are given in a tuple separated by commas:"
   ]
  },
  {
   "cell_type": "code",
   "execution_count": null,
   "metadata": {},
   "outputs": [],
   "source": [
    "a = np.array([\n",
    "                [0, 1, 2, 3, 4, 5],\n",
    "                [10, 11, 12, 13, 14, 15],\n",
    "                [20, 21, 22, 23, 24, 25],\n",
    "                [30, 31, 32, 33, 34, 35],\n",
    "                [40, 41, 42, 43, 44, 45],\n",
    "                [50, 51, 52, 53, 54, 55]\n",
    "            ])\n",
    "print (a)"
   ]
  },
  {
   "cell_type": "code",
   "execution_count": null,
   "metadata": {},
   "outputs": [],
   "source": [
    "print(a[1])         "
   ]
  },
  {
   "cell_type": "code",
   "execution_count": null,
   "metadata": {},
   "outputs": [],
   "source": [
    "print(a[-1])"
   ]
  },
  {
   "cell_type": "markdown",
   "metadata": {},
   "source": [
    "__Iterating__ over multidimensional arrays is done with respect to the first axis:"
   ]
  },
  {
   "cell_type": "code",
   "execution_count": null,
   "metadata": {},
   "outputs": [],
   "source": [
    "for row in a[:3,:3]:\n",
    "    print(row)"
   ]
  },
  {
   "cell_type": "markdown",
   "metadata": {},
   "source": [
    "However, if one wants to perform an operation on each element in the array, one can use the flat attribute which is an iterator over all the elements of the array:"
   ]
  },
  {
   "cell_type": "code",
   "execution_count": null,
   "metadata": {},
   "outputs": [],
   "source": [
    "for row in a[:3,:3].flat:\n",
    "    print(row)"
   ]
  },
  {
   "cell_type": "markdown",
   "metadata": {},
   "source": [
    "##### ACTIVITY:\n",
    "Create a 3X4 array as follows:\n"
   ]
  },
  {
   "cell_type": "raw",
   "metadata": {},
   "source": [
    "[[1   2   3   5  ]\n",
    " [10  20  30  50 ]  \n",
    " [100 200 300 500]]\n",
    "\n",
    "From this extract out the array [[20   30 ]\n",
    "                                 [200  300]]\n",
    "                                 "
   ]
  },
  {
   "cell_type": "markdown",
   "metadata": {},
   "source": [
    "## Reshaping numpy arrays\n"
   ]
  },
  {
   "cell_type": "code",
   "execution_count": null,
   "metadata": {},
   "outputs": [],
   "source": [
    "numpy_two_dim = np.array([ [2, 3, 4, 5, 6], [22, 33, 44, 55, 66] ] )\n",
    "numpy_two_dim"
   ]
  },
  {
   "cell_type": "markdown",
   "metadata": {},
   "source": [
    "#### Transpose"
   ]
  },
  {
   "cell_type": "code",
   "execution_count": null,
   "metadata": {},
   "outputs": [],
   "source": [
    "numpy_two_dim.T"
   ]
  },
  {
   "cell_type": "code",
   "execution_count": null,
   "metadata": {},
   "outputs": [],
   "source": [
    "numpy_three_dim = np.array([[[ 1, 2, 3, 4, 5, 6],\n",
    "        [  11,   22,   33,   44,   55,   66],\n",
    "        [ 111,  222,  333,  444,  555,  666]],\n",
    "\n",
    "       [[  21,   22,   23,   24,   25,   26],\n",
    "        [ 221,  222,  233,  244,  255,  266],\n",
    "        [2211, 2222, 2333, 2444, 2555, 2666]]])\n",
    "\n",
    "print(numpy_three_dim)"
   ]
  },
  {
   "cell_type": "code",
   "execution_count": null,
   "metadata": {},
   "outputs": [],
   "source": [
    "numpy_three_dim.shape"
   ]
  },
  {
   "cell_type": "markdown",
   "metadata": {},
   "source": [
    "Let's reshape numpy_three_dim to (9, 4) using __reshape__"
   ]
  },
  {
   "cell_type": "code",
   "execution_count": null,
   "metadata": {},
   "outputs": [],
   "source": [
    "numpy_three_dim.reshape(9, 4)"
   ]
  },
  {
   "cell_type": "markdown",
   "metadata": {},
   "source": [
    "If you dont know about the size of one dimesion, you can use __-1__ to tell numpy to figure it out"
   ]
  },
  {
   "cell_type": "code",
   "execution_count": null,
   "metadata": {},
   "outputs": [],
   "source": [
    "numpy_three_dim.reshape(9, -1)"
   ]
  },
  {
   "cell_type": "markdown",
   "metadata": {},
   "source": [
    "The __flatten__ method helps us get to a one dimensional numpy array"
   ]
  },
  {
   "cell_type": "code",
   "execution_count": null,
   "metadata": {},
   "outputs": [],
   "source": [
    "numpy_three_dim.flatten()"
   ]
  },
  {
   "cell_type": "code",
   "execution_count": null,
   "metadata": {},
   "outputs": [],
   "source": [
    "numpy_three_dim.flatten().shape"
   ]
  },
  {
   "cell_type": "markdown",
   "metadata": {},
   "source": [
    "### Row array vs Column array"
   ]
  },
  {
   "cell_type": "markdown",
   "metadata": {},
   "source": [
    "A one dimensional numpy array has only one number in it's shape so therefore it is neither a row vector, not a column vector"
   ]
  },
  {
   "cell_type": "code",
   "execution_count": null,
   "metadata": {},
   "outputs": [],
   "source": [
    "numpy_one_dim = np.array([1,2,3,4,5,6])\n",
    "print(numpy_one_dim)\n",
    "print(numpy_one_dim.shape)"
   ]
  },
  {
   "cell_type": "markdown",
   "metadata": {},
   "source": [
    "To explicitly make it a row vector / array"
   ]
  },
  {
   "cell_type": "code",
   "execution_count": null,
   "metadata": {},
   "outputs": [],
   "source": [
    "numpy_one_dim.reshape(1, 6)"
   ]
  },
  {
   "cell_type": "markdown",
   "metadata": {},
   "source": [
    "To explicitly make it a column vector / array"
   ]
  },
  {
   "cell_type": "code",
   "execution_count": null,
   "metadata": {},
   "outputs": [],
   "source": [
    "numpy_one_dim.reshape(6, 1)"
   ]
  },
  {
   "cell_type": "markdown",
   "metadata": {},
   "source": [
    "We can also use -1 if we do not know the number of elements in the array to create a column vector`"
   ]
  },
  {
   "cell_type": "code",
   "execution_count": null,
   "metadata": {},
   "outputs": [],
   "source": [
    "numpy_one_dim.reshape(-1, 1)"
   ]
  },
  {
   "cell_type": "markdown",
   "metadata": {},
   "source": [
    "## Broadcasting"
   ]
  },
  {
   "cell_type": "markdown",
   "metadata": {},
   "source": [
    "#### Understanding Vectorized Operations in numpy through the demonstration of Min-Max scaling"
   ]
  },
  {
   "cell_type": "code",
   "execution_count": null,
   "metadata": {},
   "outputs": [],
   "source": [
    "# Create a numpy array that starts at 0 and end at 99\n",
    "\n",
    "A = np.arange(100)\n",
    "\n",
    "print(A)"
   ]
  },
  {
   "cell_type": "code",
   "execution_count": null,
   "metadata": {},
   "outputs": [],
   "source": [
    "Amax, Amin = A.max(), A.min()\n",
    "\n",
    "print(Amax, Amin)"
   ]
  },
  {
   "cell_type": "code",
   "execution_count": null,
   "metadata": {},
   "outputs": [],
   "source": [
    "Ascaled = (A - Amin)/(Amax - Amin)\n",
    "\n",
    "print(Ascaled)"
   ]
  },
  {
   "cell_type": "markdown",
   "metadata": {},
   "source": [
    "#### NumPy - Arithmetic Operations"
   ]
  },
  {
   "cell_type": "code",
   "execution_count": null,
   "metadata": {},
   "outputs": [],
   "source": [
    "print ('First array:') \n",
    "a = np.arange(9).reshape(3,3) \n",
    "print (a) \n",
    "\n",
    "print ('Second array:') \n",
    "b = np.array([10,10,10]) \n",
    "print (b) \n",
    "\n",
    "print ('Add the two arrays:')\n",
    "print (np.add(a,b))\n",
    "print (a+b)\n",
    "\n",
    "print ('Subtract the two arrays:')\n",
    "print (np.subtract(a,b)) \n",
    "print (a-b)\n",
    "\n",
    "print ('Multiply the two arrays:')\n",
    "print (np.multiply(a,b)) \n",
    "print (a*b)\n",
    "\n",
    "print ('Divide the two arrays:')\n",
    "print (np.divide(a,b))\n",
    "print (a/b)\n",
    "\n",
    "print ('Matrix Multiplication:')\n",
    "print (np.matmul(a,b)) "
   ]
  }
 ],
 "metadata": {
  "anaconda-cloud": {},
  "kernelspec": {
   "display_name": "Python 3",
   "language": "python",
   "name": "python3"
  },
  "language_info": {
   "codemirror_mode": {
    "name": "ipython",
    "version": 3
   },
   "file_extension": ".py",
   "mimetype": "text/x-python",
   "name": "python",
   "nbconvert_exporter": "python",
   "pygments_lexer": "ipython3",
   "version": "3.7.3"
  },
  "toc": {
   "base_numbering": 1,
   "nav_menu": {},
   "number_sections": true,
   "sideBar": true,
   "skip_h1_title": false,
   "title_cell": "Table of Contents",
   "title_sidebar": "Contents",
   "toc_cell": false,
   "toc_position": {},
   "toc_section_display": true,
   "toc_window_display": false
  },
  "varInspector": {
   "cols": {
    "lenName": 16,
    "lenType": 16,
    "lenVar": 40
   },
   "kernels_config": {
    "python": {
     "delete_cmd_postfix": "",
     "delete_cmd_prefix": "del ",
     "library": "var_list.py",
     "varRefreshCmd": "print(var_dic_list())"
    },
    "r": {
     "delete_cmd_postfix": ") ",
     "delete_cmd_prefix": "rm(",
     "library": "var_list.r",
     "varRefreshCmd": "cat(var_dic_list()) "
    }
   },
   "types_to_exclude": [
    "module",
    "function",
    "builtin_function_or_method",
    "instance",
    "_Feature"
   ],
   "window_display": false
  }
 },
 "nbformat": 4,
 "nbformat_minor": 1
}
