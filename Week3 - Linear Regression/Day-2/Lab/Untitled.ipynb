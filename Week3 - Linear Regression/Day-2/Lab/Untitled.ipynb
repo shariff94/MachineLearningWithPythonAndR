{
 "cells": [
  {
   "cell_type": "code",
   "execution_count": 1,
   "metadata": {},
   "outputs": [
    {
     "name": "stderr",
     "output_type": "stream",
     "text": [
      "Warning message:\n",
      "\"package 'caret' was built under R version 3.6.2\"Loading required package: lattice\n",
      "Loading required package: ggplot2\n",
      "Registered S3 methods overwritten by 'ggplot2':\n",
      "  method         from \n",
      "  [.quosures     rlang\n",
      "  c.quosures     rlang\n",
      "  print.quosures rlang\n",
      "Warning message:\n",
      "\"package 'dplyr' was built under R version 3.6.2\"\n",
      "Attaching package: 'dplyr'\n",
      "\n",
      "The following objects are masked from 'package:stats':\n",
      "\n",
      "    filter, lag\n",
      "\n",
      "The following objects are masked from 'package:base':\n",
      "\n",
      "    intersect, setdiff, setequal, union\n",
      "\n"
     ]
    }
   ],
   "source": [
    "library(caret)\n",
    "library(dplyr)"
   ]
  },
  {
   "cell_type": "code",
   "execution_count": 2,
   "metadata": {},
   "outputs": [],
   "source": [
    "library(modes)\n",
    "library(gtools)"
   ]
  },
  {
   "cell_type": "code",
   "execution_count": 3,
   "metadata": {},
   "outputs": [],
   "source": [
    "house_data = read.csv(\"housing_data.csv\")"
   ]
  },
  {
   "cell_type": "code",
   "execution_count": 4,
   "metadata": {},
   "outputs": [
    {
     "data": {
      "text/html": [
       "<table>\n",
       "<thead><tr><th scope=col>CRIM</th><th scope=col>ZN</th><th scope=col>INDUS</th><th scope=col>CHAS</th><th scope=col>NOX</th><th scope=col>RM</th><th scope=col>AGE</th><th scope=col>DIS</th><th scope=col>RAD</th><th scope=col>TAX</th><th scope=col>PT</th><th scope=col>B</th><th scope=col>LSTAT</th><th scope=col>MV</th></tr></thead>\n",
       "<tbody>\n",
       "\t<tr><td>0.00632</td><td>18     </td><td>2.31   </td><td>0      </td><td>0.538  </td><td>6.575  </td><td>65.2   </td><td>4.0900 </td><td>1      </td><td>296    </td><td>15.3   </td><td>    NA </td><td>4.98   </td><td>24.0   </td></tr>\n",
       "\t<tr><td>0.02731</td><td> 0     </td><td>7.07   </td><td>0      </td><td>0.469  </td><td>6.421  </td><td>78.9   </td><td>4.9671 </td><td>2      </td><td>242    </td><td>17.8   </td><td>396.90 </td><td>9.14   </td><td>21.6   </td></tr>\n",
       "\t<tr><td>0.02729</td><td> 0     </td><td>7.07   </td><td>0      </td><td>0.469  </td><td>7.185  </td><td>61.1   </td><td>4.9671 </td><td>2      </td><td>242    </td><td>17.8   </td><td>392.83 </td><td>4.03   </td><td>34.7   </td></tr>\n",
       "\t<tr><td>0.03237</td><td>NA     </td><td>2.18   </td><td>0      </td><td>0.458  </td><td>6.998  </td><td>45.8   </td><td>6.0622 </td><td>3      </td><td>222    </td><td>18.7   </td><td>394.63 </td><td>2.94   </td><td>33.4   </td></tr>\n",
       "\t<tr><td>0.06905</td><td> 0     </td><td>2.18   </td><td>0      </td><td>0.458  </td><td>7.147  </td><td>54.2   </td><td>6.0622 </td><td>3      </td><td>222    </td><td>18.7   </td><td>396.90 </td><td>5.33   </td><td>36.2   </td></tr>\n",
       "\t<tr><td>0.02985</td><td> 0     </td><td>2.18   </td><td>0      </td><td>0.458  </td><td>6.430  </td><td>58.7   </td><td>6.0622 </td><td>3      </td><td>222    </td><td>18.7   </td><td>394.12 </td><td>5.21   </td><td>28.7   </td></tr>\n",
       "</tbody>\n",
       "</table>\n"
      ],
      "text/latex": [
       "\\begin{tabular}{r|llllllllllllll}\n",
       " CRIM & ZN & INDUS & CHAS & NOX & RM & AGE & DIS & RAD & TAX & PT & B & LSTAT & MV\\\\\n",
       "\\hline\n",
       "\t 0.00632 & 18      & 2.31    & 0       & 0.538   & 6.575   & 65.2    & 4.0900  & 1       & 296     & 15.3    &     NA  & 4.98    & 24.0   \\\\\n",
       "\t 0.02731 &  0      & 7.07    & 0       & 0.469   & 6.421   & 78.9    & 4.9671  & 2       & 242     & 17.8    & 396.90  & 9.14    & 21.6   \\\\\n",
       "\t 0.02729 &  0      & 7.07    & 0       & 0.469   & 7.185   & 61.1    & 4.9671  & 2       & 242     & 17.8    & 392.83  & 4.03    & 34.7   \\\\\n",
       "\t 0.03237 & NA      & 2.18    & 0       & 0.458   & 6.998   & 45.8    & 6.0622  & 3       & 222     & 18.7    & 394.63  & 2.94    & 33.4   \\\\\n",
       "\t 0.06905 &  0      & 2.18    & 0       & 0.458   & 7.147   & 54.2    & 6.0622  & 3       & 222     & 18.7    & 396.90  & 5.33    & 36.2   \\\\\n",
       "\t 0.02985 &  0      & 2.18    & 0       & 0.458   & 6.430   & 58.7    & 6.0622  & 3       & 222     & 18.7    & 394.12  & 5.21    & 28.7   \\\\\n",
       "\\end{tabular}\n"
      ],
      "text/markdown": [
       "\n",
       "| CRIM | ZN | INDUS | CHAS | NOX | RM | AGE | DIS | RAD | TAX | PT | B | LSTAT | MV |\n",
       "|---|---|---|---|---|---|---|---|---|---|---|---|---|---|\n",
       "| 0.00632 | 18      | 2.31    | 0       | 0.538   | 6.575   | 65.2    | 4.0900  | 1       | 296     | 15.3    |     NA  | 4.98    | 24.0    |\n",
       "| 0.02731 |  0      | 7.07    | 0       | 0.469   | 6.421   | 78.9    | 4.9671  | 2       | 242     | 17.8    | 396.90  | 9.14    | 21.6    |\n",
       "| 0.02729 |  0      | 7.07    | 0       | 0.469   | 7.185   | 61.1    | 4.9671  | 2       | 242     | 17.8    | 392.83  | 4.03    | 34.7    |\n",
       "| 0.03237 | NA      | 2.18    | 0       | 0.458   | 6.998   | 45.8    | 6.0622  | 3       | 222     | 18.7    | 394.63  | 2.94    | 33.4    |\n",
       "| 0.06905 |  0      | 2.18    | 0       | 0.458   | 7.147   | 54.2    | 6.0622  | 3       | 222     | 18.7    | 396.90  | 5.33    | 36.2    |\n",
       "| 0.02985 |  0      | 2.18    | 0       | 0.458   | 6.430   | 58.7    | 6.0622  | 3       | 222     | 18.7    | 394.12  | 5.21    | 28.7    |\n",
       "\n"
      ],
      "text/plain": [
       "  CRIM    ZN INDUS CHAS NOX   RM    AGE  DIS    RAD TAX PT   B      LSTAT MV  \n",
       "1 0.00632 18 2.31  0    0.538 6.575 65.2 4.0900 1   296 15.3     NA 4.98  24.0\n",
       "2 0.02731  0 7.07  0    0.469 6.421 78.9 4.9671 2   242 17.8 396.90 9.14  21.6\n",
       "3 0.02729  0 7.07  0    0.469 7.185 61.1 4.9671 2   242 17.8 392.83 4.03  34.7\n",
       "4 0.03237 NA 2.18  0    0.458 6.998 45.8 6.0622 3   222 18.7 394.63 2.94  33.4\n",
       "5 0.06905  0 2.18  0    0.458 7.147 54.2 6.0622 3   222 18.7 396.90 5.33  36.2\n",
       "6 0.02985  0 2.18  0    0.458 6.430 58.7 6.0622 3   222 18.7 394.12 5.21  28.7"
      ]
     },
     "metadata": {},
     "output_type": "display_data"
    }
   ],
   "source": [
    "head(house_data)"
   ]
  },
  {
   "cell_type": "code",
   "execution_count": 5,
   "metadata": {},
   "outputs": [
    {
     "name": "stdout",
     "output_type": "stream",
     "text": [
      "'data.frame':\t500 obs. of  14 variables:\n",
      " $ CRIM : num  0.00632 0.02731 0.02729 0.03237 0.06905 ...\n",
      " $ ZN   : num  18 0 0 NA 0 0 12.5 12.5 12.5 12.5 ...\n",
      " $ INDUS: num  2.31 7.07 7.07 2.18 2.18 ...\n",
      " $ CHAS : int  0 0 0 0 0 0 0 0 0 0 ...\n",
      " $ NOX  : num  0.538 0.469 0.469 0.458 0.458 ...\n",
      " $ RM   : num  6.57 6.42 7.18 7 7.15 ...\n",
      " $ AGE  : num  65.2 78.9 61.1 45.8 54.2 ...\n",
      " $ DIS  : num  4.09 4.97 4.97 6.06 6.06 ...\n",
      " $ RAD  : int  1 2 2 3 3 3 5 5 5 5 ...\n",
      " $ TAX  : int  296 242 242 222 222 222 311 311 311 311 ...\n",
      " $ PT   : num  15.3 17.8 17.8 18.7 18.7 ...\n",
      " $ B    : num  NA 397 393 395 397 ...\n",
      " $ LSTAT: num  4.98 9.14 4.03 2.94 5.33 ...\n",
      " $ MV   : num  24 21.6 34.7 33.4 36.2 ...\n"
     ]
    }
   ],
   "source": [
    "str(house_data)"
   ]
  },
  {
   "cell_type": "code",
   "execution_count": 6,
   "metadata": {},
   "outputs": [],
   "source": [
    "house_data$CHAS <- as.factor(house_data$CHAS)\n",
    "house_data$RAD <- as.factor(house_data$RAD)"
   ]
  },
  {
   "cell_type": "code",
   "execution_count": 7,
   "metadata": {},
   "outputs": [
    {
     "name": "stdout",
     "output_type": "stream",
     "text": [
      "'data.frame':\t500 obs. of  14 variables:\n",
      " $ CRIM : num  0.00632 0.02731 0.02729 0.03237 0.06905 ...\n",
      " $ ZN   : num  18 0 0 NA 0 0 12.5 12.5 12.5 12.5 ...\n",
      " $ INDUS: num  2.31 7.07 7.07 2.18 2.18 ...\n",
      " $ CHAS : Factor w/ 2 levels \"0\",\"1\": 1 1 1 1 1 1 1 1 1 1 ...\n",
      " $ NOX  : num  0.538 0.469 0.469 0.458 0.458 ...\n",
      " $ RM   : num  6.57 6.42 7.18 7 7.15 ...\n",
      " $ AGE  : num  65.2 78.9 61.1 45.8 54.2 ...\n",
      " $ DIS  : num  4.09 4.97 4.97 6.06 6.06 ...\n",
      " $ RAD  : Factor w/ 9 levels \"1\",\"2\",\"3\",\"4\",..: 1 2 2 3 3 3 5 5 5 5 ...\n",
      " $ TAX  : int  296 242 242 222 222 222 311 311 311 311 ...\n",
      " $ PT   : num  15.3 17.8 17.8 18.7 18.7 ...\n",
      " $ B    : num  NA 397 393 395 397 ...\n",
      " $ LSTAT: num  4.98 9.14 4.03 2.94 5.33 ...\n",
      " $ MV   : num  24 21.6 34.7 33.4 36.2 ...\n"
     ]
    }
   ],
   "source": [
    "str(house_data)"
   ]
  },
  {
   "cell_type": "code",
   "execution_count": 8,
   "metadata": {},
   "outputs": [
    {
     "data": {
      "text/plain": [
       "      CRIM                ZN             INDUS         CHAS    \n",
       " Min.   : 0.00632   Min.   :  0.00   Min.   : 0.46   0   :460  \n",
       " 1st Qu.: 0.08199   1st Qu.:  0.00   1st Qu.: 5.19   1   : 35  \n",
       " Median : 0.26169   Median :  0.00   Median : 9.69   NA's:  5  \n",
       " Mean   : 3.65532   Mean   : 11.25   Mean   :11.12             \n",
       " 3rd Qu.: 3.67822   3rd Qu.: 12.50   3rd Qu.:18.10             \n",
       " Max.   :88.97620   Max.   :100.00   Max.   :27.74             \n",
       " NA's   :7          NA's   :7        NA's   :4                 \n",
       "      NOX               RM             AGE              DIS        \n",
       " Min.   :0.3850   Min.   :3.561   Min.   :  2.90   Min.   : 1.130  \n",
       " 1st Qu.:0.4482   1st Qu.:5.885   1st Qu.: 44.40   1st Qu.: 2.097  \n",
       " Median :0.5380   Median :6.209   Median : 77.70   Median : 3.191  \n",
       " Mean   :0.5538   Mean   :6.289   Mean   : 68.58   Mean   : 3.785  \n",
       " 3rd Qu.:0.6240   3rd Qu.:6.629   3rd Qu.: 94.10   3rd Qu.: 5.118  \n",
       " Max.   :0.8710   Max.   :8.780   Max.   :100.00   Max.   :12.127  \n",
       " NA's   :6        NA's   :4       NA's   :3        NA's   :4       \n",
       "      RAD           TAX              PT              B              LSTAT      \n",
       " 24     :129   Min.   :187.0   Min.   :12.60   Min.   :  0.32   Min.   : 1.73  \n",
       " 5      :111   1st Qu.:279.0   1st Qu.:17.40   1st Qu.:375.30   1st Qu.: 6.95  \n",
       " 4      :109   Median :330.0   Median :19.10   Median :391.34   Median :11.43  \n",
       " 3      : 36   Mean   :407.5   Mean   :18.47   Mean   :356.60   Mean   :12.65  \n",
       " 6      : 26   3rd Qu.:666.0   3rd Qu.:20.20   3rd Qu.:396.21   3rd Qu.:16.95  \n",
       " (Other): 84   Max.   :711.0   Max.   :22.00   Max.   :396.90   Max.   :37.97  \n",
       " NA's   :  5   NA's   :6       NA's   :9       NA's   :4        NA's   :6      \n",
       "       MV       \n",
       " Min.   : 5.00  \n",
       " 1st Qu.:17.07  \n",
       " Median :21.20  \n",
       " Mean   :22.56  \n",
       " 3rd Qu.:25.00  \n",
       " Max.   :50.00  \n",
       "                "
      ]
     },
     "metadata": {},
     "output_type": "display_data"
    }
   ],
   "source": [
    "summary(house_data)"
   ]
  },
  {
   "cell_type": "code",
   "execution_count": 9,
   "metadata": {},
   "outputs": [],
   "source": [
    "set.seed(29)"
   ]
  },
  {
   "cell_type": "code",
   "execution_count": 10,
   "metadata": {},
   "outputs": [],
   "source": [
    "train_Index <- sample(x = 1:nrow(house_data),size=0.7*nrow(house_data))\n",
    "train_data <- house_data[train_Index,]\n",
    "test_data <- house_data[-train_Index,]"
   ]
  },
  {
   "cell_type": "code",
   "execution_count": 11,
   "metadata": {},
   "outputs": [
    {
     "data": {
      "text/html": [
       "52"
      ],
      "text/latex": [
       "52"
      ],
      "text/markdown": [
       "52"
      ],
      "text/plain": [
       "[1] 52"
      ]
     },
     "metadata": {},
     "output_type": "display_data"
    }
   ],
   "source": [
    "sum(is.na(train_data))"
   ]
  },
  {
   "cell_type": "code",
   "execution_count": 12,
   "metadata": {},
   "outputs": [],
   "source": [
    "library(caret)"
   ]
  },
  {
   "cell_type": "code",
   "execution_count": 13,
   "metadata": {},
   "outputs": [],
   "source": [
    "imputed_values <- preProcess(x = train_data,method = \"medianImpute\")"
   ]
  },
  {
   "cell_type": "code",
   "execution_count": 14,
   "metadata": {},
   "outputs": [
    {
     "data": {
      "text/html": [
       "52"
      ],
      "text/latex": [
       "52"
      ],
      "text/markdown": [
       "52"
      ],
      "text/plain": [
       "[1] 52"
      ]
     },
     "metadata": {},
     "output_type": "display_data"
    }
   ],
   "source": [
    "sum(is.na(train_data))"
   ]
  },
  {
   "cell_type": "code",
   "execution_count": 16,
   "metadata": {},
   "outputs": [],
   "source": [
    "train_data <- predict(imputed_values,newdata = train_data)"
   ]
  },
  {
   "cell_type": "code",
   "execution_count": 17,
   "metadata": {},
   "outputs": [
    {
     "data": {
      "text/html": [
       "7"
      ],
      "text/latex": [
       "7"
      ],
      "text/markdown": [
       "7"
      ],
      "text/plain": [
       "[1] 7"
      ]
     },
     "metadata": {},
     "output_type": "display_data"
    }
   ],
   "source": [
    "sum(is.na(train_data))"
   ]
  },
  {
   "cell_type": "code",
   "execution_count": 18,
   "metadata": {},
   "outputs": [
    {
     "data": {
      "text/html": [
       "18"
      ],
      "text/latex": [
       "18"
      ],
      "text/markdown": [
       "18"
      ],
      "text/plain": [
       "[1] 18"
      ]
     },
     "metadata": {},
     "output_type": "display_data"
    }
   ],
   "source": [
    "sum(is.na(test_data))"
   ]
  },
  {
   "cell_type": "code",
   "execution_count": 19,
   "metadata": {},
   "outputs": [
    {
     "data": {
      "text/html": [
       "3"
      ],
      "text/latex": [
       "3"
      ],
      "text/markdown": [
       "3"
      ],
      "text/plain": [
       "[1] 3"
      ]
     },
     "metadata": {},
     "output_type": "display_data"
    }
   ],
   "source": [
    "test_data <- predict(object = imputed_values,newdata = test_data)\n",
    "sum(is.na(test_data))"
   ]
  },
  {
   "cell_type": "code",
   "execution_count": 20,
   "metadata": {},
   "outputs": [
    {
     "data": {
      "text/plain": [
       "      CRIM                ZN            INDUS         CHAS          NOX        \n",
       " Min.   : 0.00632   Min.   : 0.00   Min.   : 0.46   0   :142   Min.   :0.3850  \n",
       " 1st Qu.: 0.08675   1st Qu.: 0.00   1st Qu.: 4.98   1   :  7   1st Qu.:0.4492  \n",
       " Median : 0.25651   Median : 0.00   Median : 9.69   NA's:  1   Median :0.5350  \n",
       " Mean   : 3.92259   Mean   :12.62   Mean   :10.88              Mean   :0.5502  \n",
       " 3rd Qu.: 3.66200   3rd Qu.:19.50   3rd Qu.:18.10              3rd Qu.:0.6240  \n",
       " Max.   :73.53410   Max.   :90.00   Max.   :27.74              Max.   :0.8710  \n",
       "                                                                               \n",
       "       RM             AGE              DIS              RAD          TAX       \n",
       " Min.   :4.138   Min.   :  8.90   Min.   : 1.130   24     :40   Min.   :187.0  \n",
       " 1st Qu.:5.871   1st Qu.: 46.15   1st Qu.: 2.050   4      :33   1st Qu.:287.5  \n",
       " Median :6.316   Median : 74.45   Median : 3.299   5      :25   Median :330.0  \n",
       " Mean   :6.280   Mean   : 68.87   Mean   : 3.899   8      :12   Mean   :416.1  \n",
       " 3rd Qu.:6.671   3rd Qu.: 93.53   3rd Qu.: 5.601   3      :10   3rd Qu.:666.0  \n",
       " Max.   :8.297   Max.   :100.00   Max.   :12.127   (Other):28   Max.   :711.0  \n",
       "                                                   NA's   : 2                  \n",
       "       PT              B              LSTAT              MV       \n",
       " Min.   :12.60   Min.   :  0.32   Min.   : 2.870   Min.   : 5.60  \n",
       " 1st Qu.:17.40   1st Qu.:364.32   1st Qu.: 6.763   1st Qu.:16.10  \n",
       " Median :18.65   Median :390.58   Median :12.085   Median :20.70  \n",
       " Mean   :18.46   Mean   :342.35   Mean   :13.201   Mean   :22.08  \n",
       " 3rd Qu.:20.20   3rd Qu.:395.23   3rd Qu.:17.183   3rd Qu.:25.00  \n",
       " Max.   :21.20   Max.   :396.90   Max.   :36.980   Max.   :50.00  \n",
       "                                                                  "
      ]
     },
     "metadata": {},
     "output_type": "display_data"
    }
   ],
   "source": [
    "summary(test_data)"
   ]
  },
  {
   "cell_type": "code",
   "execution_count": 21,
   "metadata": {},
   "outputs": [
    {
     "data": {
      "text/plain": [
       "      CRIM                ZN             INDUS         CHAS    \n",
       " Min.   : 0.00906   Min.   :  0.00   Min.   : 0.74   0   :318  \n",
       " 1st Qu.: 0.08205   1st Qu.:  0.00   1st Qu.: 5.40   1   : 28  \n",
       " Median : 0.25199   Median :  0.00   Median : 9.69   NA's:  4  \n",
       " Mean   : 3.47272   Mean   : 10.43   Mean   :11.21             \n",
       " 3rd Qu.: 3.43597   3rd Qu.:  0.00   3rd Qu.:18.10             \n",
       " Max.   :88.97620   Max.   :100.00   Max.   :27.74             \n",
       "                                                               \n",
       "      NOX               RM             AGE              DIS        \n",
       " Min.   :0.3890   Min.   :3.561   Min.   :  2.90   Min.   : 1.137  \n",
       " 1st Qu.:0.4490   1st Qu.:5.907   1st Qu.: 44.55   1st Qu.: 2.108  \n",
       " Median :0.5380   Median :6.185   Median : 79.70   Median : 3.107  \n",
       " Mean   :0.5551   Mean   :6.291   Mean   : 68.54   Mean   : 3.728  \n",
       " 3rd Qu.:0.6240   3rd Qu.:6.584   3rd Qu.: 94.25   3rd Qu.: 5.100  \n",
       " Max.   :0.8710   Max.   :8.780   Max.   :100.00   Max.   :10.586  \n",
       "                                                                   \n",
       "      RAD          TAX              PT              B             LSTAT       \n",
       " 24     :89   Min.   :188.0   Min.   :12.60   Min.   :  2.6   Min.   : 1.730  \n",
       " 5      :86   1st Qu.:277.0   1st Qu.:17.40   1st Qu.:377.6   1st Qu.: 7.215  \n",
       " 4      :76   Median :330.0   Median :19.10   Median :392.2   Median :11.110  \n",
       " 3      :26   Mean   :402.5   Mean   :18.49   Mean   :363.1   Mean   :12.385  \n",
       " 2      :19   3rd Qu.:666.0   3rd Qu.:20.20   3rd Qu.:396.8   3rd Qu.:16.570  \n",
       " (Other):51   Max.   :711.0   Max.   :22.00   Max.   :396.9   Max.   :37.970  \n",
       " NA's   : 3                                                                   \n",
       "       MV       \n",
       " Min.   : 5.00  \n",
       " 1st Qu.:17.50  \n",
       " Median :21.40  \n",
       " Mean   :22.77  \n",
       " 3rd Qu.:25.00  \n",
       " Max.   :50.00  \n",
       "                "
      ]
     },
     "metadata": {},
     "output_type": "display_data"
    }
   ],
   "source": [
    "summary(train_data)"
   ]
  },
  {
   "cell_type": "code",
   "execution_count": 22,
   "metadata": {},
   "outputs": [
    {
     "name": "stderr",
     "output_type": "stream",
     "text": [
      "Warning message:\n",
      "\"package 'DMwR' was built under R version 3.6.2\"Loading required package: grid\n",
      "Registered S3 method overwritten by 'quantmod':\n",
      "  method            from\n",
      "  as.zoo.data.frame zoo \n"
     ]
    }
   ],
   "source": [
    "library(DMwR)"
   ]
  },
  {
   "cell_type": "code",
   "execution_count": null,
   "metadata": {},
   "outputs": [],
   "source": []
  }
 ],
 "metadata": {
  "kernelspec": {
   "display_name": "R",
   "language": "R",
   "name": "ir"
  },
  "language_info": {
   "codemirror_mode": "r",
   "file_extension": ".r",
   "mimetype": "text/x-r-source",
   "name": "R",
   "pygments_lexer": "r",
   "version": "3.6.1"
  }
 },
 "nbformat": 4,
 "nbformat_minor": 2
}
